{
 "cells": [
  {
   "cell_type": "markdown",
   "metadata": {},
   "source": [
    "# Функция активации с линейным выпрямлением (Rectified Linear Activation Function)"
   ]
  },
  {
   "cell_type": "markdown",
   "metadata": {},
   "source": [
    "## Задание"
   ]
  },
  {
   "cell_type": "markdown",
   "metadata": {},
   "source": [
    "**Функция активации** - это функция, применяемая к каждому узлу. Она преобразует вход узла в определенный вывод.\n",
    "\n",
    "Функция активации с линейным выпрямлением (называемая **ReLU**) показала очень высокую производительность нейронных сетей. Эта функция принимает на вход одно число, возвращая 0, если вход отрицательный, и сам вход, если он положительный.\n",
    "\n",
    "Вот несколько примеров:\n",
    "\n",
    "`relu(3) = 3`\n",
    "\n",
    "`relu(-3) = 0`"
   ]
  },
  {
   "cell_type": "markdown",
   "metadata": {},
   "source": [
    "## Инструкция"
   ]
  },
  {
   "cell_type": "markdown",
   "metadata": {},
   "source": [
    "- Заполните заготовку, допишите функцию `relu()`:\n",
    "\n",
    "<pre>\n",
    "def relu(input):\n",
    "    output = max( , )    \n",
    "    return(output)\n",
    "</pre>\n",
    "\n",
    "- Используйте алгоритм расчета аналогичный предыдущему упражнению;\n",
    "- Примените функцию `relu()` к `node_0_input` для вычисления `node_0_output`;\n",
    "- Примените функцию `relu()` к `node_1_input` для вычисления `node_1_output`;\n",
    "- Рассчитайте итоговый прогноз с учетом функции активации."
   ]
  },
  {
   "cell_type": "markdown",
   "metadata": {},
   "source": [
    "## Предопределенный код"
   ]
  },
  {
   "cell_type": "markdown",
   "metadata": {},
   "source": [
    "Предопределенные значения и загрузка библиотек"
   ]
  },
  {
   "cell_type": "code",
   "execution_count": 1,
   "metadata": {},
   "outputs": [],
   "source": [
    "import numpy as np\n",
    "\n",
    "input_data = [3, 5]\n",
    "weights = {\n",
    "    'node_0': np.array([2, 4]),\n",
    "    'node_1': np.array([4, -5]),\n",
    "    'output': np.array([2, 7])\n",
    "}"
   ]
  },
  {
   "cell_type": "markdown",
   "metadata": {},
   "source": [
    "Определите функцию `relu()`:"
   ]
  },
  {
   "cell_type": "code",
   "execution_count": 2,
   "metadata": {},
   "outputs": [],
   "source": [
    "def relu(input):\n",
    "    output = max(0, input)\n",
    "    return(output)"
   ]
  },
  {
   "cell_type": "markdown",
   "metadata": {},
   "source": [
    "Рассчитайте значение узла 0: `node_0_output`"
   ]
  },
  {
   "cell_type": "code",
   "execution_count": 3,
   "metadata": {},
   "outputs": [],
   "source": [
    "node_0_input = (input_data * weights['node_0']).sum()\n",
    "node_0_output = relu(node_0_input)"
   ]
  },
  {
   "cell_type": "markdown",
   "metadata": {},
   "source": [
    "Рассчитайте значение узла 1: `node_1_output`"
   ]
  },
  {
   "cell_type": "code",
   "execution_count": 4,
   "metadata": {},
   "outputs": [],
   "source": [
    "node_1_input = (input_data * weights['node_1']).sum()\n",
    "node_1_output = relu(node_1_input)"
   ]
  },
  {
   "cell_type": "markdown",
   "metadata": {},
   "source": [
    "Поместите значения узлов в массив: `hidden_layer_outputs`"
   ]
  },
  {
   "cell_type": "code",
   "execution_count": 5,
   "metadata": {},
   "outputs": [],
   "source": [
    "hidden_layer_outputs = np.array([node_0_output, node_1_output])"
   ]
  },
  {
   "cell_type": "markdown",
   "metadata": {},
   "source": [
    "Рассчитайте выход: `model_output` (не используйте `relu`)"
   ]
  },
  {
   "cell_type": "code",
   "execution_count": 6,
   "metadata": {},
   "outputs": [],
   "source": [
    "model_output = (hidden_layer_outputs * weights['output']).sum()"
   ]
  },
  {
   "cell_type": "markdown",
   "metadata": {},
   "source": [
    "Выведите результат"
   ]
  },
  {
   "cell_type": "code",
   "execution_count": 7,
   "metadata": {},
   "outputs": [
    {
     "name": "stdout",
     "output_type": "stream",
     "text": [
      "52\n"
     ]
    }
   ],
   "source": [
    "print(model_output)"
   ]
  }
 ],
 "metadata": {
  "kernelspec": {
   "display_name": "base",
   "language": "python",
   "name": "python3"
  },
  "language_info": {
   "codemirror_mode": {
    "name": "ipython",
    "version": 3
   },
   "file_extension": ".py",
   "mimetype": "text/x-python",
   "name": "python",
   "nbconvert_exporter": "python",
   "pygments_lexer": "ipython3",
   "version": "3.11.5"
  }
 },
 "nbformat": 4,
 "nbformat_minor": 2
}
