{
 "cells": [
  {
   "cell_type": "markdown",
   "metadata": {},
   "source": [
    "### Расчет наклона и изменение весов"
   ]
  },
  {
   "cell_type": "code",
   "execution_count": 98,
   "metadata": {},
   "outputs": [
    {
     "name": "stdout",
     "output_type": "stream",
     "text": [
      "5\n"
     ]
    }
   ],
   "source": [
    "import numpy as np\n",
    "weights = np.array([1,2])\n",
    "input_data = np.array([3,4])\n",
    "target = 6\n",
    "learning_rate = 0.01\n",
    "preds = (weights*input_data).sum()\n",
    "error = preds - target\n",
    "print(error)"
   ]
  },
  {
   "cell_type": "code",
   "execution_count": 99,
   "metadata": {},
   "outputs": [
    {
     "name": "stdout",
     "output_type": "stream",
     "text": [
      "[30 40]\n"
     ]
    }
   ],
   "source": [
    "gradient = 2 * input_data * error\n",
    "print(gradient)"
   ]
  },
  {
   "cell_type": "code",
   "execution_count": 100,
   "metadata": {},
   "outputs": [
    {
     "name": "stdout",
     "output_type": "stream",
     "text": [
      "2.5\n"
     ]
    }
   ],
   "source": [
    "weights_updated = weights - learning_rate * gradient\n",
    "preds_updated = (weights_updated*input_data).sum()\n",
    "error_updated = preds_updated - target\n",
    "print(error_updated)"
   ]
  },
  {
   "cell_type": "code",
   "execution_count": 101,
   "metadata": {},
   "outputs": [],
   "source": [
    "import numpy as np\n",
    "\n",
    "# Функция активация ReLU\n",
    "def relu(x):\n",
    "    return np.maximum(0, x)\n",
    "\n",
    "# Производная функции ReLu\n",
    "def relu_derivative(x):\n",
    "    return np.where(x<=0, 0, 1)\n",
    "\n",
    "class NeuralNetwork:\n",
    "    def __init__(self, input_size, hidden_size, output_size):\n",
    "        # Инициализация весов с использованием случайных значений\n",
    "        self.weights_input_hidden = np.random.randn(input_size, hidden_size)\n",
    "        self.weights_hidden_output = np.random.randn(hidden_size, output_size)\n",
    "\n",
    "    def forward(self, inputs):\n",
    "        # Прямое распространение\n",
    "        self.hidden_input = np.dot(inputs, self.weights_input_hidden)\n",
    "        self.hidden_output = relu(self.hidden_input)\n",
    "\n",
    "        self.output_input = np.dot(self.hidden_output, self.weights_hidden_output)\n",
    "        self.output = relu(self.output_input)\n",
    "        return self.output\n",
    "\n",
    "    def backward(self, inputs, targets, learning_rate):\n",
    "        # Обратное распространение ошибки\n",
    "        # Вычисление ошибки на выходном слое\n",
    "        output_errors = targets - self.output\n",
    "        # Вычисление градиента для выходного слоя\n",
    "        output_delta = output_errors * relu_derivative(self.output)\n",
    "\n",
    "        # Вычисление ошибки на скрытом слое\n",
    "        hidden_errors = np.dot(output_delta, self.weights_hidden_output.T)\n",
    "        # Вычисление градиента для скрытого слоя\n",
    "        hidden_delta = hidden_errors * relu_derivative(self.hidden_output)\n",
    "\n",
    "        # Обновление весов\n",
    "        self.weights_hidden_output += np.dot(self.hidden_output.T, output_delta) * learning_rate\n",
    "        self.weights_input_hidden += np.dot(inputs.T, hidden_delta) * learning_rate"
   ]
  },
  {
   "cell_type": "code",
   "execution_count": 102,
   "metadata": {},
   "outputs": [],
   "source": [
    "nn = NeuralNetwork(2,2,1)"
   ]
  },
  {
   "cell_type": "code",
   "execution_count": 103,
   "metadata": {},
   "outputs": [],
   "source": [
    "training_inputs = np.array([[0,0], [0,1], [1,0], [1,1]])\n",
    "training_targets = np.array([[0], [1], [1], [0]])"
   ]
  },
  {
   "cell_type": "code",
   "execution_count": 104,
   "metadata": {},
   "outputs": [],
   "source": [
    "for i in range(10000):\n",
    "    nn.forward(training_inputs)\n",
    "    nn.backward(training_inputs, training_targets, 0.1)"
   ]
  },
  {
   "cell_type": "code",
   "execution_count": 105,
   "metadata": {},
   "outputs": [
    {
     "name": "stdout",
     "output_type": "stream",
     "text": [
      "Результаты тестирования:\n",
      "Входные данные: [0 0]\n",
      "Выходные данные: [0.]\n",
      "\n",
      "Входные данные: [0 1]\n",
      "Выходные данные: [1.]\n",
      "\n",
      "Входные данные: [1 0]\n",
      "Выходные данные: [0.]\n",
      "\n",
      "Входные данные: [1 1]\n",
      "Выходные данные: [0.]\n",
      "\n"
     ]
    }
   ],
   "source": [
    "print(\"Результаты тестирования:\")\n",
    "for i in range(len(training_inputs)):\n",
    "    print(\"Входные данные:\", training_inputs[i])\n",
    "    print(\"Выходные данные:\", nn.forward(training_inputs[i]))\n",
    "    print()"
   ]
  }
 ],
 "metadata": {
  "kernelspec": {
   "display_name": "base",
   "language": "python",
   "name": "python3"
  },
  "language_info": {
   "codemirror_mode": {
    "name": "ipython",
    "version": 3
   },
   "file_extension": ".py",
   "mimetype": "text/x-python",
   "name": "python",
   "nbconvert_exporter": "python",
   "pygments_lexer": "ipython3",
   "version": "3.11.5"
  }
 },
 "nbformat": 4,
 "nbformat_minor": 2
}
