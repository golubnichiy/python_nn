{
 "cells": [
  {
   "cell_type": "markdown",
   "metadata": {},
   "source": [
    "### Импорт библиотек"
   ]
  },
  {
   "cell_type": "code",
   "execution_count": 4,
   "metadata": {},
   "outputs": [
    {
     "name": "stdout",
     "output_type": "stream",
     "text": [
      "\u001b[33mDEPRECATION: Loading egg at /Library/anaconda3/lib/python3.11/site-packages/python_magic-0.4.27-py3.11.egg is deprecated. pip 23.3 will enforce this behaviour change. A possible replacement is to use pip for package installation..\u001b[0m\u001b[33m\n",
      "\u001b[0m\u001b[33mDEPRECATION: Loading egg at /Library/anaconda3/lib/python3.11/site-packages/etllib-1.1-py3.11.egg is deprecated. pip 23.3 will enforce this behaviour change. A possible replacement is to use pip for package installation..\u001b[0m\u001b[33m\n",
      "\u001b[0m\u001b[33mDEPRECATION: Loading egg at /Library/anaconda3/lib/python3.11/site-packages/iso8601-2.1.0-py3.11.egg is deprecated. pip 23.3 will enforce this behaviour change. A possible replacement is to use pip for package installation..\u001b[0m\u001b[33m\n",
      "\u001b[0mRequirement already satisfied: tensorflow in /Library/anaconda3/lib/python3.11/site-packages (2.14.0)\n",
      "Requirement already satisfied: tensorflow-macos==2.14.0 in /Library/anaconda3/lib/python3.11/site-packages (from tensorflow) (2.14.0)\n",
      "Requirement already satisfied: absl-py>=1.0.0 in /Library/anaconda3/lib/python3.11/site-packages (from tensorflow-macos==2.14.0->tensorflow) (2.0.0)\n",
      "Requirement already satisfied: astunparse>=1.6.0 in /Library/anaconda3/lib/python3.11/site-packages (from tensorflow-macos==2.14.0->tensorflow) (1.6.3)\n",
      "Requirement already satisfied: flatbuffers>=23.5.26 in /Library/anaconda3/lib/python3.11/site-packages (from tensorflow-macos==2.14.0->tensorflow) (23.5.26)\n",
      "Requirement already satisfied: gast!=0.5.0,!=0.5.1,!=0.5.2,>=0.2.1 in /Library/anaconda3/lib/python3.11/site-packages (from tensorflow-macos==2.14.0->tensorflow) (0.5.4)\n",
      "Requirement already satisfied: google-pasta>=0.1.1 in /Library/anaconda3/lib/python3.11/site-packages (from tensorflow-macos==2.14.0->tensorflow) (0.2.0)\n",
      "Requirement already satisfied: h5py>=2.9.0 in /Library/anaconda3/lib/python3.11/site-packages (from tensorflow-macos==2.14.0->tensorflow) (3.9.0)\n",
      "Requirement already satisfied: libclang>=13.0.0 in /Library/anaconda3/lib/python3.11/site-packages (from tensorflow-macos==2.14.0->tensorflow) (16.0.6)\n",
      "Requirement already satisfied: ml-dtypes==0.2.0 in /Library/anaconda3/lib/python3.11/site-packages (from tensorflow-macos==2.14.0->tensorflow) (0.2.0)\n",
      "Requirement already satisfied: numpy>=1.23.5 in /Library/anaconda3/lib/python3.11/site-packages (from tensorflow-macos==2.14.0->tensorflow) (1.24.3)\n",
      "Requirement already satisfied: opt-einsum>=2.3.2 in /Library/anaconda3/lib/python3.11/site-packages (from tensorflow-macos==2.14.0->tensorflow) (3.3.0)\n",
      "Requirement already satisfied: packaging in /Library/anaconda3/lib/python3.11/site-packages (from tensorflow-macos==2.14.0->tensorflow) (23.1)\n",
      "Requirement already satisfied: protobuf!=4.21.0,!=4.21.1,!=4.21.2,!=4.21.3,!=4.21.4,!=4.21.5,<5.0.0dev,>=3.20.3 in /Library/anaconda3/lib/python3.11/site-packages (from tensorflow-macos==2.14.0->tensorflow) (4.24.4)\n",
      "Requirement already satisfied: setuptools in /Library/anaconda3/lib/python3.11/site-packages (from tensorflow-macos==2.14.0->tensorflow) (68.0.0)\n",
      "Requirement already satisfied: six>=1.12.0 in /Library/anaconda3/lib/python3.11/site-packages (from tensorflow-macos==2.14.0->tensorflow) (1.16.0)\n",
      "Requirement already satisfied: termcolor>=1.1.0 in /Library/anaconda3/lib/python3.11/site-packages (from tensorflow-macos==2.14.0->tensorflow) (2.3.0)\n",
      "Requirement already satisfied: typing-extensions>=3.6.6 in /Library/anaconda3/lib/python3.11/site-packages (from tensorflow-macos==2.14.0->tensorflow) (4.7.1)\n",
      "Requirement already satisfied: wrapt<1.15,>=1.11.0 in /Library/anaconda3/lib/python3.11/site-packages (from tensorflow-macos==2.14.0->tensorflow) (1.14.1)\n",
      "Requirement already satisfied: tensorflow-io-gcs-filesystem>=0.23.1 in /Library/anaconda3/lib/python3.11/site-packages (from tensorflow-macos==2.14.0->tensorflow) (0.34.0)\n",
      "Requirement already satisfied: grpcio<2.0,>=1.24.3 in /Library/anaconda3/lib/python3.11/site-packages (from tensorflow-macos==2.14.0->tensorflow) (1.59.0)\n",
      "Requirement already satisfied: tensorboard<2.15,>=2.14 in /Library/anaconda3/lib/python3.11/site-packages (from tensorflow-macos==2.14.0->tensorflow) (2.14.1)\n",
      "Requirement already satisfied: tensorflow-estimator<2.15,>=2.14.0 in /Library/anaconda3/lib/python3.11/site-packages (from tensorflow-macos==2.14.0->tensorflow) (2.14.0)\n",
      "Requirement already satisfied: keras<2.15,>=2.14.0 in /Library/anaconda3/lib/python3.11/site-packages (from tensorflow-macos==2.14.0->tensorflow) (2.14.0)\n",
      "Requirement already satisfied: wheel<1.0,>=0.23.0 in /Library/anaconda3/lib/python3.11/site-packages (from astunparse>=1.6.0->tensorflow-macos==2.14.0->tensorflow) (0.38.4)\n",
      "Requirement already satisfied: google-auth<3,>=1.6.3 in /Library/anaconda3/lib/python3.11/site-packages (from tensorboard<2.15,>=2.14->tensorflow-macos==2.14.0->tensorflow) (2.23.3)\n",
      "Requirement already satisfied: google-auth-oauthlib<1.1,>=0.5 in /Library/anaconda3/lib/python3.11/site-packages (from tensorboard<2.15,>=2.14->tensorflow-macos==2.14.0->tensorflow) (1.0.0)\n",
      "Requirement already satisfied: markdown>=2.6.8 in /Library/anaconda3/lib/python3.11/site-packages (from tensorboard<2.15,>=2.14->tensorflow-macos==2.14.0->tensorflow) (3.4.1)\n",
      "Requirement already satisfied: requests<3,>=2.21.0 in /Library/anaconda3/lib/python3.11/site-packages (from tensorboard<2.15,>=2.14->tensorflow-macos==2.14.0->tensorflow) (2.31.0)\n",
      "Requirement already satisfied: tensorboard-data-server<0.8.0,>=0.7.0 in /Library/anaconda3/lib/python3.11/site-packages (from tensorboard<2.15,>=2.14->tensorflow-macos==2.14.0->tensorflow) (0.7.2)\n",
      "Requirement already satisfied: werkzeug>=1.0.1 in /Library/anaconda3/lib/python3.11/site-packages (from tensorboard<2.15,>=2.14->tensorflow-macos==2.14.0->tensorflow) (2.2.3)\n",
      "Requirement already satisfied: cachetools<6.0,>=2.0.0 in /Library/anaconda3/lib/python3.11/site-packages (from google-auth<3,>=1.6.3->tensorboard<2.15,>=2.14->tensorflow-macos==2.14.0->tensorflow) (5.3.2)\n",
      "Requirement already satisfied: pyasn1-modules>=0.2.1 in /Library/anaconda3/lib/python3.11/site-packages (from google-auth<3,>=1.6.3->tensorboard<2.15,>=2.14->tensorflow-macos==2.14.0->tensorflow) (0.2.8)\n",
      "Requirement already satisfied: rsa<5,>=3.1.4 in /Library/anaconda3/lib/python3.11/site-packages (from google-auth<3,>=1.6.3->tensorboard<2.15,>=2.14->tensorflow-macos==2.14.0->tensorflow) (4.9)\n",
      "Requirement already satisfied: requests-oauthlib>=0.7.0 in /Library/anaconda3/lib/python3.11/site-packages (from google-auth-oauthlib<1.1,>=0.5->tensorboard<2.15,>=2.14->tensorflow-macos==2.14.0->tensorflow) (1.3.1)\n",
      "Requirement already satisfied: charset-normalizer<4,>=2 in /Library/anaconda3/lib/python3.11/site-packages (from requests<3,>=2.21.0->tensorboard<2.15,>=2.14->tensorflow-macos==2.14.0->tensorflow) (2.0.4)\n",
      "Requirement already satisfied: idna<4,>=2.5 in /Library/anaconda3/lib/python3.11/site-packages (from requests<3,>=2.21.0->tensorboard<2.15,>=2.14->tensorflow-macos==2.14.0->tensorflow) (3.4)\n",
      "Requirement already satisfied: urllib3<3,>=1.21.1 in /Library/anaconda3/lib/python3.11/site-packages (from requests<3,>=2.21.0->tensorboard<2.15,>=2.14->tensorflow-macos==2.14.0->tensorflow) (1.26.16)\n",
      "Requirement already satisfied: certifi>=2017.4.17 in /Library/anaconda3/lib/python3.11/site-packages (from requests<3,>=2.21.0->tensorboard<2.15,>=2.14->tensorflow-macos==2.14.0->tensorflow) (2023.7.22)\n",
      "Requirement already satisfied: MarkupSafe>=2.1.1 in /Library/anaconda3/lib/python3.11/site-packages (from werkzeug>=1.0.1->tensorboard<2.15,>=2.14->tensorflow-macos==2.14.0->tensorflow) (2.1.1)\n",
      "Requirement already satisfied: pyasn1<0.5.0,>=0.4.6 in /Library/anaconda3/lib/python3.11/site-packages (from pyasn1-modules>=0.2.1->google-auth<3,>=1.6.3->tensorboard<2.15,>=2.14->tensorflow-macos==2.14.0->tensorflow) (0.4.8)\n",
      "Requirement already satisfied: oauthlib>=3.0.0 in /Library/anaconda3/lib/python3.11/site-packages (from requests-oauthlib>=0.7.0->google-auth-oauthlib<1.1,>=0.5->tensorboard<2.15,>=2.14->tensorflow-macos==2.14.0->tensorflow) (3.2.2)\n"
     ]
    }
   ],
   "source": [
    "!pip3 install tensorflow"
   ]
  },
  {
   "cell_type": "code",
   "execution_count": 3,
   "metadata": {},
   "outputs": [
    {
     "name": "stdout",
     "output_type": "stream",
     "text": [
      "\u001b[33mDEPRECATION: Loading egg at /Library/anaconda3/lib/python3.11/site-packages/python_magic-0.4.27-py3.11.egg is deprecated. pip 23.3 will enforce this behaviour change. A possible replacement is to use pip for package installation..\u001b[0m\u001b[33m\n",
      "\u001b[0m\u001b[33mDEPRECATION: Loading egg at /Library/anaconda3/lib/python3.11/site-packages/etllib-1.1-py3.11.egg is deprecated. pip 23.3 will enforce this behaviour change. A possible replacement is to use pip for package installation..\u001b[0m\u001b[33m\n",
      "\u001b[0m\u001b[33mDEPRECATION: Loading egg at /Library/anaconda3/lib/python3.11/site-packages/iso8601-2.1.0-py3.11.egg is deprecated. pip 23.3 will enforce this behaviour change. A possible replacement is to use pip for package installation..\u001b[0m\u001b[33m\n",
      "\u001b[0mRequirement already satisfied: keras in /Library/anaconda3/lib/python3.11/site-packages (2.14.0)\n"
     ]
    }
   ],
   "source": [
    "!pip3 install keras"
   ]
  },
  {
   "cell_type": "code",
   "execution_count": 1,
   "metadata": {},
   "outputs": [],
   "source": [
    "import numpy as np\n",
    "from keras.models import Sequential\n",
    "from keras.layers import Dense"
   ]
  },
  {
   "cell_type": "markdown",
   "metadata": {},
   "source": [
    "### Генерация случайных данных для обучения"
   ]
  },
  {
   "cell_type": "code",
   "execution_count": 12,
   "metadata": {},
   "outputs": [],
   "source": [
    "X_train = np.random.random((1000, 10))\n",
    "y_train = np.random.randint(2, size=(1000, 1))"
   ]
  },
  {
   "cell_type": "markdown",
   "metadata": {},
   "source": [
    "### Модель нейронной сети"
   ]
  },
  {
   "cell_type": "code",
   "execution_count": 24,
   "metadata": {},
   "outputs": [
    {
     "name": "stdout",
     "output_type": "stream",
     "text": [
      "Epoch 1/10\n",
      "32/32 [==============================] - 0s 1ms/step - loss: 0.6979 - accuracy: 0.5010\n",
      "Epoch 2/10\n",
      "32/32 [==============================] - 0s 689us/step - loss: 0.6935 - accuracy: 0.5080\n",
      "Epoch 3/10\n",
      "32/32 [==============================] - 0s 624us/step - loss: 0.6913 - accuracy: 0.5170\n",
      "Epoch 4/10\n",
      "32/32 [==============================] - 0s 614us/step - loss: 0.6930 - accuracy: 0.5310\n",
      "Epoch 5/10\n",
      "32/32 [==============================] - 0s 3ms/step - loss: 0.6909 - accuracy: 0.5320\n",
      "Epoch 6/10\n",
      "32/32 [==============================] - 0s 728us/step - loss: 0.6890 - accuracy: 0.5310\n",
      "Epoch 7/10\n",
      "32/32 [==============================] - 0s 2ms/step - loss: 0.6879 - accuracy: 0.5460\n",
      "Epoch 8/10\n",
      "32/32 [==============================] - 0s 2ms/step - loss: 0.6861 - accuracy: 0.5310\n",
      "Epoch 9/10\n",
      "32/32 [==============================] - 0s 2ms/step - loss: 0.6856 - accuracy: 0.5560\n",
      "Epoch 10/10\n",
      "32/32 [==============================] - 0s 1ms/step - loss: 0.6841 - accuracy: 0.5430\n"
     ]
    },
    {
     "data": {
      "text/plain": [
       "<keras.src.callbacks.History at 0x320536b90>"
      ]
     },
     "execution_count": 24,
     "metadata": {},
     "output_type": "execute_result"
    }
   ],
   "source": [
    "model = Sequential()\n",
    "model.add(Dense(64, input_dim=X_train.shape[1], activation='relu'))\n",
    "model.add(Dense(64, activation='relu'))\n",
    "model.add(Dense(1, activation='sigmoid'))\n",
    "\n",
    "model.compile(loss='binary_crossentropy', optimizer='adam', metrics=['accuracy'])\n",
    "\n",
    "model.fit(X_train, y_train, epochs=10, batch_size=32)"
   ]
  },
  {
   "cell_type": "markdown",
   "metadata": {},
   "source": [
    "### Нейронная сеть для ирисов Фишера"
   ]
  },
  {
   "cell_type": "code",
   "execution_count": 28,
   "metadata": {},
   "outputs": [],
   "source": [
    "import numpy as np\n",
    "from sklearn.datasets import load_iris\n",
    "from sklearn.model_selection import train_test_split\n",
    "from keras.models import Sequential\n",
    "from keras.layers import Dense\n",
    "from keras.utils import to_categorical"
   ]
  },
  {
   "cell_type": "code",
   "execution_count": 29,
   "metadata": {},
   "outputs": [],
   "source": [
    "iris = load_iris()\n",
    "X = iris.data\n",
    "y = iris.target"
   ]
  },
  {
   "cell_type": "code",
   "execution_count": 36,
   "metadata": {},
   "outputs": [],
   "source": [
    "y = to_categorical(y)"
   ]
  },
  {
   "cell_type": "code",
   "execution_count": 38,
   "metadata": {},
   "outputs": [],
   "source": [
    "X_train, X_test, y_train, y_test = train_test_split(X, y, test_size=0.2, random_state=2024)"
   ]
  },
  {
   "cell_type": "code",
   "execution_count": 39,
   "metadata": {},
   "outputs": [
    {
     "name": "stdout",
     "output_type": "stream",
     "text": [
      "Epoch 1/50\n",
      "24/24 [==============================] - 0s 506us/step - loss: 1.6426 - accuracy: 0.3333\n",
      "Epoch 2/50\n",
      "24/24 [==============================] - 0s 479us/step - loss: 1.3594 - accuracy: 0.3333\n",
      "Epoch 3/50\n",
      "24/24 [==============================] - 0s 554us/step - loss: 1.1663 - accuracy: 0.3333\n",
      "Epoch 4/50\n",
      "24/24 [==============================] - 0s 517us/step - loss: 1.0235 - accuracy: 0.3333\n",
      "Epoch 5/50\n",
      "24/24 [==============================] - 0s 462us/step - loss: 0.9160 - accuracy: 0.3333\n",
      "Epoch 6/50\n",
      "24/24 [==============================] - 0s 493us/step - loss: 0.8459 - accuracy: 0.4750\n",
      "Epoch 7/50\n",
      "24/24 [==============================] - 0s 464us/step - loss: 0.7973 - accuracy: 0.6417\n",
      "Epoch 8/50\n",
      "24/24 [==============================] - 0s 488us/step - loss: 0.7632 - accuracy: 0.6583\n",
      "Epoch 9/50\n",
      "24/24 [==============================] - 0s 476us/step - loss: 0.7371 - accuracy: 0.6583\n",
      "Epoch 10/50\n",
      "24/24 [==============================] - 0s 534us/step - loss: 0.7137 - accuracy: 0.6500\n",
      "Epoch 11/50\n",
      "24/24 [==============================] - 0s 2ms/step - loss: 0.6910 - accuracy: 0.7167\n",
      "Epoch 12/50\n",
      "24/24 [==============================] - 0s 431us/step - loss: 0.6700 - accuracy: 0.7000\n",
      "Epoch 13/50\n",
      "24/24 [==============================] - 0s 422us/step - loss: 0.6497 - accuracy: 0.7083\n",
      "Epoch 14/50\n",
      "24/24 [==============================] - 0s 458us/step - loss: 0.6322 - accuracy: 0.8083\n",
      "Epoch 15/50\n",
      "24/24 [==============================] - 0s 428us/step - loss: 0.6162 - accuracy: 0.7500\n",
      "Epoch 16/50\n",
      "24/24 [==============================] - 0s 431us/step - loss: 0.6001 - accuracy: 0.8417\n",
      "Epoch 17/50\n",
      "24/24 [==============================] - 0s 483us/step - loss: 0.5847 - accuracy: 0.8083\n",
      "Epoch 18/50\n",
      "24/24 [==============================] - 0s 450us/step - loss: 0.5716 - accuracy: 0.7750\n",
      "Epoch 19/50\n",
      "24/24 [==============================] - 0s 406us/step - loss: 0.5578 - accuracy: 0.8333\n",
      "Epoch 20/50\n",
      "24/24 [==============================] - 0s 443us/step - loss: 0.5470 - accuracy: 0.8667\n",
      "Epoch 21/50\n",
      "24/24 [==============================] - 0s 457us/step - loss: 0.5344 - accuracy: 0.8833\n",
      "Epoch 22/50\n",
      "24/24 [==============================] - 0s 441us/step - loss: 0.5236 - accuracy: 0.9083\n",
      "Epoch 23/50\n",
      "24/24 [==============================] - 0s 469us/step - loss: 0.5140 - accuracy: 0.9500\n",
      "Epoch 24/50\n",
      "24/24 [==============================] - 0s 445us/step - loss: 0.5031 - accuracy: 0.9083\n",
      "Epoch 25/50\n",
      "24/24 [==============================] - 0s 457us/step - loss: 0.4938 - accuracy: 0.9000\n",
      "Epoch 26/50\n",
      "24/24 [==============================] - 0s 649us/step - loss: 0.4859 - accuracy: 0.9500\n",
      "Epoch 27/50\n",
      "24/24 [==============================] - 0s 611us/step - loss: 0.4763 - accuracy: 0.9333\n",
      "Epoch 28/50\n",
      "24/24 [==============================] - 0s 698us/step - loss: 0.4685 - accuracy: 0.9583\n",
      "Epoch 29/50\n",
      "24/24 [==============================] - 0s 576us/step - loss: 0.4610 - accuracy: 0.9583\n",
      "Epoch 30/50\n",
      "24/24 [==============================] - 0s 546us/step - loss: 0.4533 - accuracy: 0.9333\n",
      "Epoch 31/50\n",
      "24/24 [==============================] - 0s 559us/step - loss: 0.4451 - accuracy: 0.9333\n",
      "Epoch 32/50\n",
      "24/24 [==============================] - 0s 614us/step - loss: 0.4391 - accuracy: 0.9667\n",
      "Epoch 33/50\n",
      "24/24 [==============================] - 0s 533us/step - loss: 0.4313 - accuracy: 0.9667\n",
      "Epoch 34/50\n",
      "24/24 [==============================] - 0s 793us/step - loss: 0.4267 - accuracy: 0.9250\n",
      "Epoch 35/50\n",
      "24/24 [==============================] - 0s 2ms/step - loss: 0.4194 - accuracy: 0.9667\n",
      "Epoch 36/50\n",
      "24/24 [==============================] - 0s 599us/step - loss: 0.4122 - accuracy: 0.9667\n",
      "Epoch 37/50\n",
      "24/24 [==============================] - 0s 3ms/step - loss: 0.4036 - accuracy: 0.9833\n",
      "Epoch 38/50\n",
      "24/24 [==============================] - 0s 506us/step - loss: 0.3992 - accuracy: 0.9667\n",
      "Epoch 39/50\n",
      "24/24 [==============================] - 0s 467us/step - loss: 0.3923 - accuracy: 0.9750\n",
      "Epoch 40/50\n",
      "24/24 [==============================] - 0s 431us/step - loss: 0.3860 - accuracy: 0.9667\n",
      "Epoch 41/50\n",
      "24/24 [==============================] - 0s 427us/step - loss: 0.3817 - accuracy: 0.9833\n",
      "Epoch 42/50\n",
      "24/24 [==============================] - 0s 509us/step - loss: 0.3729 - accuracy: 0.9833\n",
      "Epoch 43/50\n",
      "24/24 [==============================] - 0s 444us/step - loss: 0.3693 - accuracy: 0.9667\n",
      "Epoch 44/50\n",
      "24/24 [==============================] - 0s 450us/step - loss: 0.3621 - accuracy: 0.9750\n",
      "Epoch 45/50\n",
      "24/24 [==============================] - 0s 484us/step - loss: 0.3562 - accuracy: 0.9750\n",
      "Epoch 46/50\n",
      "24/24 [==============================] - 0s 447us/step - loss: 0.3514 - accuracy: 0.9833\n",
      "Epoch 47/50\n",
      "24/24 [==============================] - 0s 440us/step - loss: 0.3444 - accuracy: 0.9833\n",
      "Epoch 48/50\n",
      "24/24 [==============================] - 0s 463us/step - loss: 0.3393 - accuracy: 0.9750\n",
      "Epoch 49/50\n",
      "24/24 [==============================] - 0s 437us/step - loss: 0.3338 - accuracy: 0.9833\n",
      "Epoch 50/50\n",
      "24/24 [==============================] - 0s 454us/step - loss: 0.3288 - accuracy: 0.9833\n"
     ]
    },
    {
     "data": {
      "text/plain": [
       "<keras.src.callbacks.History at 0x316f51e10>"
      ]
     },
     "execution_count": 39,
     "metadata": {},
     "output_type": "execute_result"
    }
   ],
   "source": [
    "model = Sequential()\n",
    "model.add(Dense(10, input_dim=4,activation='relu'))\n",
    "model.add(Dense(3, activation = 'softmax'))\n",
    "\n",
    "model.compile(loss='categorical_crossentropy', optimizer='adam', metrics=['accuracy'])\n",
    "\n",
    "model.fit(X_train, y_train, epochs=50, batch_size=5)"
   ]
  },
  {
   "cell_type": "code",
   "execution_count": 40,
   "metadata": {},
   "outputs": [
    {
     "name": "stdout",
     "output_type": "stream",
     "text": [
      "1/1 [==============================] - 0s 76ms/step - loss: 0.3035 - accuracy: 0.9333\n"
     ]
    },
    {
     "data": {
      "text/plain": [
       "[0.30348050594329834, 0.9333333373069763]"
      ]
     },
     "execution_count": 40,
     "metadata": {},
     "output_type": "execute_result"
    }
   ],
   "source": [
    "model.evaluate(X_test, y_test)"
   ]
  },
  {
   "cell_type": "code",
   "execution_count": 41,
   "metadata": {},
   "outputs": [],
   "source": [
    "import numpy as np\n",
    "from sklearn.linear_model import LinearRegression\n",
    "import matplotlib.pyplot as plt\n",
    "\n",
    "np.random.seed(0)\n",
    "x = np.random.uniform(0, 1, 100).reshape(-1, 1)\n",
    "y = 2 * x + 1 + np.random.normal(0, 1, 100).reshape(-1, 1)"
   ]
  },
  {
   "cell_type": "code",
   "execution_count": 47,
   "metadata": {},
   "outputs": [],
   "source": [
    "import numpy as np\n",
    "data = []\n",
    "\n",
    "for i in range(100):\n",
    "    x = np.random.uniform(0, 1)\n",
    "    y = 2 * x  + 1 + np.random.uniform(0, 1)\n",
    "    data.append({'x': x,\n",
    "                 'y': y})"
   ]
  },
  {
   "cell_type": "code",
   "execution_count": 52,
   "metadata": {},
   "outputs": [
    {
     "name": "stdout",
     "output_type": "stream",
     "text": [
      "[{'x': 0.37416998033422555, 'y': 2.2119153850332616}, {'x': 0.2776287062947319, 'y': 2.1420417590476326}, {'x': 0.8638556059232314, 'y': 2.8452430678084957}, {'x': 0.5173791071541142, 'y': 2.1668263206533815}, {'x': 0.7168596811925937, 'y': 2.8297790651924815}, {'x': 0.565421311858509, 'y': 2.3141224599310966}, {'x': 0.14484775934337724, 'y': 1.777751799335709}, {'x': 0.3556127378499556, 'y': 2.6516574209527244}, {'x': 0.7653252538069653, 'y': 3.279314127464478}, {'x': 0.9037197397459334, 'y': 2.8908619149338857}, {'x': 0.5521924699224066, 'y': 2.6888610088005818}, {'x': 0.961936378547229, 'y': 3.2160202838870067}, {'x': 0.24082877991544682, 'y': 1.5819515020963915}, {'x': 0.016429629591474204, 'y': 1.962388575975139}, {'x': 0.66991654659091, 'y': 3.124986005204958}, {'x': 0.2817301057539491, 'y': 2.1498703776942247}, {'x': 0.06395526612098112, 'y': 1.613538128176585}, {'x': 0.9774951397444468, 'y': 3.8314955248054847}, {'x': 0.33815895183684563, 'y': 2.63788805821519}, {'x': 0.2317016264712045, 'y': 2.4127220753580905}, {'x': 0.9413777047064986, 'y': 3.681957996765389}, {'x': 0.6304479368667911, 'y': 3.135183840358529}, {'x': 0.2930202845077967, 'y': 2.4349841243285115}, {'x': 0.6178766919175238, 'y': 2.248990241593947}, {'x': 0.34723351793221957, 'y': 1.8426078968126043}, {'x': 0.9818293898182532, 'y': 3.442029086676494}, {'x': 0.4973913654986627, 'y': 2.634255247396049}, {'x': 0.3685846061296175, 'y': 1.874069483944834}, {'x': 0.8221177331942455, 'y': 2.834083378291249}, {'x': 0.511318982546456, 'y': 2.246954994067651}, {'x': 0.09784448449403405, 'y': 2.0578804864097515}, {'x': 0.9729194890231303, 'y': 3.906673636109261}, {'x': 0.906555499221179, 'y': 3.587158331140997}, {'x': 0.3331451520286419, 'y': 1.7473916940452807}, {'x': 0.40724117141380733, 'y': 2.0467164849985573}, {'x': 0.13248763475798297, 'y': 1.3184024513027912}, {'x': 0.7255943642105788, 'y': 2.4626161870461885}, {'x': 0.7705807485027762, 'y': 2.6881081424059277}, {'x': 0.07952208258675575, 'y': 1.2486471994121169}, {'x': 0.6720478073539145, 'y': 2.5894628245606737}, {'x': 0.42053946668009845, 'y': 2.3984477246841136}, {'x': 0.8605511738287938, 'y': 3.448146610368916}, {'x': 0.27032790523871464, 'y': 1.6721386097685569}, {'x': 0.05537432042119794, 'y': 1.4123472753233384}, {'x': 0.26211814923967824, 'y': 1.9803768652798361}, {'x': 0.6832813355476804, 'y': 3.0621881167342178}, {'x': 0.28351884658216664, 'y': 1.9469646490644537}, {'x': 0.18115096173690304, 'y': 2.150847435780325}, {'x': 0.0568480764332403, 'y': 1.810693394591468}, {'x': 0.7786953959411034, 'y': 3.33479835373096}, {'x': 0.25942256434535493, 'y': 1.8926582666232714}, {'x': 0.587599635196389, 'y': 2.448021172817245}, {'x': 0.3708527992178887, 'y': 1.938759878621417}, {'x': 0.4598558837560074, 'y': 1.9643240687661288}, {'x': 0.799795884570618, 'y': 2.676548216127869}, {'x': 0.518835148831526, 'y': 2.344480397208248}, {'x': 0.5775429488313755, 'y': 3.114519238496176}, {'x': 0.6455702444560039, 'y': 2.3265029246674986}, {'x': 0.43040243950806123, 'y': 2.370821731334373}, {'x': 0.536177494703452, 'y': 2.753747500010742}, {'x': 0.2775960977317661, 'y': 1.6840527609298523}, {'x': 0.39267567654709434, 'y': 2.7417570758901375}, {'x': 0.18713089175084474, 'y': 2.2782457384299266}, {'x': 0.5438059500773263, 'y': 2.5445233218004186}, {'x': 0.8820414102298896, 'y': 3.222686782228365}, {'x': 0.7241676366115433, 'y': 2.8473605949261884}, {'x': 0.9040443929009577, 'y': 3.498113805993143}, {'x': 0.6996220542505167, 'y': 2.7269645100581523}, {'x': 0.7567786427368892, 'y': 3.1496183409209197}, {'x': 0.24002027337970955, 'y': 1.6405793692446755}, {'x': 0.7963914745173317, 'y': 3.551949552069886}, {'x': 0.45813882726004285, 'y': 2.5072618198437704}, {'x': 0.8577226441935546, 'y': 3.1726687417409662}, {'x': 0.9518744768327362, 'y': 3.4795001157103447}, {'x': 0.820767120701315, 'y': 3.550377959815368}, {'x': 0.8155238187685688, 'y': 2.7904621009860935}, {'x': 0.6288984390617004, 'y': 2.6562311367430778}, {'x': 0.0627129520233457, 'y': 1.5494581559365335}, {'x': 0.2586840668894077, 'y': 2.3664064422073263}, {'x': 0.03330462654669619, 'y': 2.025591974956866}, {'x': 0.3553688484719296, 'y': 2.0674445873464022}, {'x': 0.01632850268370789, 'y': 1.2178893306035996}, {'x': 0.4012595008036087, 'y': 2.7318104189099315}, {'x': 0.09961493022127133, 'y': 2.144531393921622}, {'x': 0.8694885305466322, 'y': 3.1931394580008163}, {'x': 0.32670088176826007, 'y': 1.886145892815577}, {'x': 0.6144647064768743, 'y': 2.262004004429254}, {'x': 0.015606064446828216, 'y': 1.4600078513918944}, {'x': 0.0680740739747202, 'y': 1.3880891361955334}, {'x': 0.22116091534608384, 'y': 1.6955130244150196}, {'x': 0.13105523121525775, 'y': 1.2741466853281698}, {'x': 0.11548429713874808, 'y': 1.849448853790244}, {'x': 0.9742562128180503, 'y': 3.9388574271969947}, {'x': 0.4090540953730616, 'y': 1.9810626167927285}, {'x': 0.6387617573665293, 'y': 2.7678288612817954}, {'x': 0.9894097772844315, 'y': 3.044123761720643}, {'x': 0.7832344383138131, 'y': 2.85486737395912}, {'x': 0.241418620076574, 'y': 2.145341811685824}, {'x': 0.24606318499096447, 'y': 2.157985487541117}, {'x': 0.5173085172022888, 'y': 2.458706022840427}]\n"
     ]
    }
   ],
   "source": [
    "print(data)"
   ]
  },
  {
   "cell_type": "code",
   "execution_count": 53,
   "metadata": {},
   "outputs": [],
   "source": [
    "import numpy as np\n",
    "from keras.models import Sequential\n",
    "from keras.layers import Dense\n",
    "\n",
    "X = np.random.rand(100, 1)\n",
    "y = 2 * X + 1 + np.random.randn(100, 1) * 0.1\n"
   ]
  },
  {
   "cell_type": "code",
   "execution_count": 56,
   "metadata": {},
   "outputs": [],
   "source": [
    "model = Sequential()\n",
    "model.add(Dense(10, input_shape = (1, ), activation = 'relu'))\n",
    "model.add(Dense(1))"
   ]
  },
  {
   "cell_type": "code",
   "execution_count": 61,
   "metadata": {},
   "outputs": [],
   "source": [
    "model.compile(optimizer='adam', loss='mean_squared_error', metrics=['accuracy'])"
   ]
  },
  {
   "cell_type": "code",
   "execution_count": 62,
   "metadata": {},
   "outputs": [
    {
     "name": "stdout",
     "output_type": "stream",
     "text": [
      "Epoch 1/50\n",
      "4/4 [==============================] - 0s 1ms/step - loss: 1.3939 - accuracy: 0.0000e+00\n",
      "Epoch 2/50\n",
      "4/4 [==============================] - 0s 799us/step - loss: 1.3454 - accuracy: 0.0000e+00\n",
      "Epoch 3/50\n",
      "4/4 [==============================] - 0s 765us/step - loss: 1.2988 - accuracy: 0.0000e+00\n",
      "Epoch 4/50\n",
      "4/4 [==============================] - 0s 873us/step - loss: 1.2519 - accuracy: 0.0000e+00\n",
      "Epoch 5/50\n",
      "4/4 [==============================] - 0s 811us/step - loss: 1.2067 - accuracy: 0.0000e+00\n",
      "Epoch 6/50\n",
      "4/4 [==============================] - 0s 1ms/step - loss: 1.1610 - accuracy: 0.0000e+00\n",
      "Epoch 7/50\n",
      "4/4 [==============================] - 0s 794us/step - loss: 1.1170 - accuracy: 0.0000e+00\n",
      "Epoch 8/50\n",
      "4/4 [==============================] - 0s 730us/step - loss: 1.0743 - accuracy: 0.0000e+00\n",
      "Epoch 9/50\n",
      "4/4 [==============================] - 0s 752us/step - loss: 1.0324 - accuracy: 0.0000e+00\n",
      "Epoch 10/50\n",
      "4/4 [==============================] - 0s 766us/step - loss: 0.9906 - accuracy: 0.0000e+00\n",
      "Epoch 11/50\n",
      "4/4 [==============================] - 0s 756us/step - loss: 0.9507 - accuracy: 0.0000e+00\n",
      "Epoch 12/50\n",
      "4/4 [==============================] - 0s 792us/step - loss: 0.9109 - accuracy: 0.0000e+00\n",
      "Epoch 13/50\n",
      "4/4 [==============================] - 0s 925us/step - loss: 0.8723 - accuracy: 0.0000e+00\n",
      "Epoch 14/50\n",
      "4/4 [==============================] - 0s 789us/step - loss: 0.8342 - accuracy: 0.0000e+00\n",
      "Epoch 15/50\n",
      "4/4 [==============================] - 0s 795us/step - loss: 0.7975 - accuracy: 0.0000e+00\n",
      "Epoch 16/50\n",
      "4/4 [==============================] - 0s 840us/step - loss: 0.7623 - accuracy: 0.0000e+00\n",
      "Epoch 17/50\n",
      "4/4 [==============================] - 0s 917us/step - loss: 0.7278 - accuracy: 0.0000e+00\n",
      "Epoch 18/50\n",
      "4/4 [==============================] - 0s 817us/step - loss: 0.6942 - accuracy: 0.0000e+00\n",
      "Epoch 19/50\n",
      "4/4 [==============================] - 0s 846us/step - loss: 0.6615 - accuracy: 0.0000e+00\n",
      "Epoch 20/50\n",
      "4/4 [==============================] - 0s 781us/step - loss: 0.6306 - accuracy: 0.0000e+00\n",
      "Epoch 21/50\n",
      "4/4 [==============================] - 0s 758us/step - loss: 0.5995 - accuracy: 0.0000e+00\n",
      "Epoch 22/50\n",
      "4/4 [==============================] - 0s 762us/step - loss: 0.5704 - accuracy: 0.0000e+00\n",
      "Epoch 23/50\n",
      "4/4 [==============================] - 0s 716us/step - loss: 0.5415 - accuracy: 0.0000e+00\n",
      "Epoch 24/50\n",
      "4/4 [==============================] - 0s 642us/step - loss: 0.5135 - accuracy: 0.0000e+00\n",
      "Epoch 25/50\n",
      "4/4 [==============================] - 0s 659us/step - loss: 0.4874 - accuracy: 0.0000e+00\n",
      "Epoch 26/50\n",
      "4/4 [==============================] - 0s 683us/step - loss: 0.4616 - accuracy: 0.0000e+00\n",
      "Epoch 27/50\n",
      "4/4 [==============================] - 0s 772us/step - loss: 0.4360 - accuracy: 0.0000e+00\n",
      "Epoch 28/50\n",
      "4/4 [==============================] - 0s 800us/step - loss: 0.4111 - accuracy: 0.0000e+00\n",
      "Epoch 29/50\n",
      "4/4 [==============================] - 0s 671us/step - loss: 0.3882 - accuracy: 0.0000e+00\n",
      "Epoch 30/50\n",
      "4/4 [==============================] - 0s 724us/step - loss: 0.3649 - accuracy: 0.0000e+00\n",
      "Epoch 31/50\n",
      "4/4 [==============================] - 0s 718us/step - loss: 0.3445 - accuracy: 0.0000e+00\n",
      "Epoch 32/50\n",
      "4/4 [==============================] - 0s 729us/step - loss: 0.3249 - accuracy: 0.0000e+00\n",
      "Epoch 33/50\n",
      "4/4 [==============================] - 0s 738us/step - loss: 0.3065 - accuracy: 0.0000e+00\n",
      "Epoch 34/50\n",
      "4/4 [==============================] - 0s 636us/step - loss: 0.2883 - accuracy: 0.0000e+00\n",
      "Epoch 35/50\n",
      "4/4 [==============================] - 0s 758us/step - loss: 0.2715 - accuracy: 0.0000e+00\n",
      "Epoch 36/50\n",
      "4/4 [==============================] - 0s 718us/step - loss: 0.2549 - accuracy: 0.0000e+00\n",
      "Epoch 37/50\n",
      "4/4 [==============================] - 0s 734us/step - loss: 0.2394 - accuracy: 0.0000e+00\n",
      "Epoch 38/50\n",
      "4/4 [==============================] - 0s 6ms/step - loss: 0.2245 - accuracy: 0.0000e+00\n",
      "Epoch 39/50\n",
      "4/4 [==============================] - 0s 874us/step - loss: 0.2110 - accuracy: 0.0000e+00\n",
      "Epoch 40/50\n",
      "4/4 [==============================] - 0s 2ms/step - loss: 0.1979 - accuracy: 0.0000e+00\n",
      "Epoch 41/50\n",
      "4/4 [==============================] - 0s 670us/step - loss: 0.1854 - accuracy: 0.0000e+00\n",
      "Epoch 42/50\n",
      "4/4 [==============================] - 0s 752us/step - loss: 0.1734 - accuracy: 0.0000e+00\n",
      "Epoch 43/50\n",
      "4/4 [==============================] - 0s 745us/step - loss: 0.1624 - accuracy: 0.0000e+00\n",
      "Epoch 44/50\n",
      "4/4 [==============================] - 0s 727us/step - loss: 0.1514 - accuracy: 0.0000e+00\n",
      "Epoch 45/50\n",
      "4/4 [==============================] - 0s 825us/step - loss: 0.1416 - accuracy: 0.0000e+00\n",
      "Epoch 46/50\n",
      "4/4 [==============================] - 0s 750us/step - loss: 0.1323 - accuracy: 0.0000e+00\n",
      "Epoch 47/50\n",
      "4/4 [==============================] - 0s 760us/step - loss: 0.1237 - accuracy: 0.0000e+00\n",
      "Epoch 48/50\n",
      "4/4 [==============================] - 0s 653us/step - loss: 0.1151 - accuracy: 0.0000e+00\n",
      "Epoch 49/50\n",
      "4/4 [==============================] - 0s 683us/step - loss: 0.1065 - accuracy: 0.0000e+00\n",
      "Epoch 50/50\n",
      "4/4 [==============================] - 0s 722us/step - loss: 0.0992 - accuracy: 0.0000e+00\n"
     ]
    },
    {
     "data": {
      "text/plain": [
       "<keras.src.callbacks.History at 0x3193a9b50>"
      ]
     },
     "execution_count": 62,
     "metadata": {},
     "output_type": "execute_result"
    }
   ],
   "source": [
    "model.fit(X, y, epochs=50)"
   ]
  },
  {
   "cell_type": "code",
   "execution_count": 59,
   "metadata": {},
   "outputs": [
    {
     "name": "stdout",
     "output_type": "stream",
     "text": [
      "1/1 [==============================] - 0s 70ms/step\n"
     ]
    }
   ],
   "source": [
    "X_new = np.array([[0.2], [0.5], [0.8]])\n",
    "predictions = model.predict(X_new)"
   ]
  },
  {
   "cell_type": "code",
   "execution_count": 60,
   "metadata": {},
   "outputs": [
    {
     "name": "stdout",
     "output_type": "stream",
     "text": [
      "[[0.62708354]\n",
      " [0.87699133]\n",
      " [1.1146938 ]]\n"
     ]
    }
   ],
   "source": [
    "print(predictions)"
   ]
  }
 ],
 "metadata": {
  "kernelspec": {
   "display_name": "base",
   "language": "python",
   "name": "python3"
  },
  "language_info": {
   "codemirror_mode": {
    "name": "ipython",
    "version": 3
   },
   "file_extension": ".py",
   "mimetype": "text/x-python",
   "name": "python",
   "nbconvert_exporter": "python",
   "pygments_lexer": "ipython3",
   "version": "3.11.5"
  }
 },
 "nbformat": 4,
 "nbformat_minor": 2
}
