{
 "cells": [
  {
   "cell_type": "markdown",
   "metadata": {},
   "source": [
    "# Прямое распространение в более глубокой сети"
   ]
  },
  {
   "cell_type": "markdown",
   "metadata": {},
   "source": [
    "### Вопрос"
   ]
  },
  {
   "cell_type": "markdown",
   "metadata": {},
   "source": [
    "У вас есть модель с 2 скрытыми слоями. Значения для входной точки данных показаны внутри узлов входа. Веса показаны на ребрах/линиях. Какое предсказание сделает модель для соответствующей точки данных?\n",
    "\n",
    "Предположим, что активационная функция на каждом узле - это функция идентичности. То есть выход каждого узла будет таким же, как его вход. Таким образом, значение нижнего узла в первом скрытом слое равно -1, а не 0, как было бы при использовании функции активации `ReLU`.\n",
    "\n",
    "<img src=\"test_2.png\" alt=\"Модель нейронной сети\" width=\"500\">\n"
   ]
  },
  {
   "cell_type": "markdown",
   "metadata": {},
   "source": [
    "### Варианты ответа"
   ]
  },
  {
   "cell_type": "markdown",
   "metadata": {},
   "source": [
    "<input type=\"radio\" id=\"option1\" name=\"options\" value=\"1\">\n",
    "<label for=\"option1\">0</label><br>\n",
    "<input type=\"radio\" id=\"option2\" name=\"options\" value=\"2\">\n",
    "<label for=\"option2\">5</label><br>\n",
    "<input type=\"radio\" id=\"option3\" name=\"options\" value=\"3\">\n",
    "<label for=\"option2\">7</label><br>\n",
    "<input type=\"radio\" id=\"option4\" name=\"options\" value=\"4\">\n",
    "<label for=\"option2\">9</label><br>"
   ]
  }
 ],
 "metadata": {
  "kernelspec": {
   "display_name": "base",
   "language": "python",
   "name": "python3"
  },
  "language_info": {
   "name": "python",
   "version": "3.11.5"
  }
 },
 "nbformat": 4,
 "nbformat_minor": 2
}
