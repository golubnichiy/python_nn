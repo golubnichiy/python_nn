{
 "cells": [
  {
   "cell_type": "markdown",
   "metadata": {},
   "source": [
    "# Многослойные нейронные сети"
   ]
  },
  {
   "cell_type": "markdown",
   "metadata": {},
   "source": [
    "## Задание"
   ]
  },
  {
   "cell_type": "markdown",
   "metadata": {},
   "source": [
    "В этом упражнении вам необходимо написать код для прямого распространения сигнала в нейронной сети с 2 скрытыми слоями. Каждый скрытый слой имеет два узла. Входные данные уже предопределены как `input_data`. Узлы в первом скрытом слое называются `node_0_0` и `node_0_1`. Их веса предварительно предопределены как `weights['node_0_0']` и `weights['node_0_1'`] соответственно.\n",
    "\n",
    "Узлы во втором скрытом слое называются `node_1_0` и `node_1_1`. Их веса предварительно предопределены как `weights['node_1_0']` и `weights['node_1_1']` соответственно.\n",
    "\n",
    "Затем небходимо создать модельный выход из скрытых узлов, используя веса, предварительно предопределенные как `weights['output']`. Используйте функция `relu()`, которую вы создали раньше.\n",
    "\n",
    "<img src=\"fig_4_1.png\" alt=\"Нейронная сеть\" width=\"600\">"
   ]
  },
  {
   "cell_type": "markdown",
   "metadata": {},
   "source": [
    "## Инструкция"
   ]
  },
  {
   "cell_type": "markdown",
   "metadata": {},
   "source": [
    "- Повторите код, реализующий логику функции `relu()`;\n",
    "- Определите функцию с именем `predict_with_network()`, которая принимает в качестве аргумента `input_data_row` и возвращает прогноз сети в качестве выходных данных. Для реализации логики прогноза:\n",
    "  - Вычислите `node_0_0_input`, используя его веса `weights['node_0_0']` и заданные входные данные `input_data`. Затем примените функцию `relu()` для расчета `node_0_0_output`;\n",
    "  - Повторите то же самое для `node_0_1_input`, чтобы получить `node_0_1_output`;\n",
    "  - Вычислите `node_1_0_input`, используя его веса `weights['node_1_0']` и выходы из первого скрытого слоя - массив `hidden_0_outputs`. Затем примените функцию `relu()` для получения `node_1_0_output`;\n",
    "  - Повторите то же самое для `node_1_1_input`, чтобы получить `node_1_1_output`;\n",
    "  - Вычислите `model_output`, используя его веса `weights['output']` и выходы из второго скрытого слоя в массиве `hidden_1_outputs`. Не применяйте функцию `relu()` к результату вычсилений."
   ]
  },
  {
   "cell_type": "markdown",
   "metadata": {},
   "source": [
    "## Предопределенный код"
   ]
  },
  {
   "cell_type": "markdown",
   "metadata": {},
   "source": [
    "Предопределенные значения и загрузка библиотек"
   ]
  },
  {
   "cell_type": "code",
   "execution_count": null,
   "metadata": {},
   "outputs": [],
   "source": [
    "import numpy as np\n",
    "\n",
    "input_data = np.array([3, 5])\n",
    "weights = {\n",
    "    'node_0_0': np.array([2, 4]),\n",
    "    'node_0_1': np.array([4, -5]),\n",
    "    'node_1_0': np.array([-1, 2]),\n",
    "    'node_1_1': np.array([1, 2]),\n",
    "    'output': np.array([2, 7])\n",
    "}"
   ]
  },
  {
   "cell_type": "markdown",
   "metadata": {},
   "source": [
    "Определите функцию `relu()`:"
   ]
  },
  {
   "cell_type": "code",
   "execution_count": null,
   "metadata": {},
   "outputs": [],
   "source": []
  },
  {
   "cell_type": "markdown",
   "metadata": {},
   "source": [
    "Заполните логику функции `predict_with_network()` по шаблону:"
   ]
  },
  {
   "cell_type": "code",
   "execution_count": null,
   "metadata": {},
   "outputs": [],
   "source": [
    "def predict_with_network(input_data):\n",
    "    # Рассчитайте значение узла 0 в первом скрытом слое: node_0_0_output. Для расчета изначально посчитайте node_0_0_input\n",
    "    \n",
    "\n",
    "    # Рассчитайте значение узла 1 в первом скрытом слое: node_0_1_output. Для расчета изначально посчитайте node_0_1_input\n",
    "    \n",
    "\n",
    "    # Сохраните значения узлов в массив: hidden_0_outputs\n",
    "    \n",
    "    \n",
    "    # Рассчитайте значение узла 0 во втором скрытом слое: node_1_0_output. Для расчета изначально посчитайте node_1_0_input\n",
    "    \n",
    "\n",
    "    # Рассчитайте значение узла 1 во втором скрытом слое: node_1_1_output. Для расчета изначально посчитайте node_1_1_input\n",
    "    \n",
    "\n",
    "    # Сохраните значения узлов в массив: hidden_1_outputs\n",
    "    \n",
    "\n",
    "    # Вычислите выходную модель: model_output\n",
    "    \n",
    "    \n",
    "    # Верните model_output\n",
    "    "
   ]
  },
  {
   "cell_type": "markdown",
   "metadata": {},
   "source": [
    "Посчитайте результаты применения функции `predict_with_network` к набору данных `input_data` и сохраните результат в `output`."
   ]
  },
  {
   "cell_type": "code",
   "execution_count": null,
   "metadata": {},
   "outputs": [],
   "source": []
  },
  {
   "cell_type": "markdown",
   "metadata": {},
   "source": [
    "Выведите результат"
   ]
  },
  {
   "cell_type": "code",
   "execution_count": null,
   "metadata": {},
   "outputs": [],
   "source": []
  }
 ],
 "metadata": {
  "kernelspec": {
   "display_name": "base",
   "language": "python",
   "name": "python3"
  },
  "language_info": {
   "codemirror_mode": {
    "name": "ipython",
    "version": 3
   },
   "file_extension": ".py",
   "mimetype": "text/x-python",
   "name": "python",
   "nbconvert_exporter": "python",
   "pygments_lexer": "ipython3",
   "version": "3.11.5"
  }
 },
 "nbformat": 4,
 "nbformat_minor": 2
}
