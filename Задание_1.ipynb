{
 "cells": [
  {
   "cell_type": "markdown",
   "metadata": {},
   "source": [
    "# Написание алгоритма прямого распространения"
   ]
  },
  {
   "cell_type": "markdown",
   "metadata": {},
   "source": [
    "## Задание"
   ]
  },
  {
   "cell_type": "markdown",
   "metadata": {},
   "source": [
    "В этом упражнении вы напишете код для выполнения прямого распространения (предсказания) для вашей первой нейронной сети:\n",
    "\n",
    "<img src=\"fig_1_1.png\" alt=\"Нейронная сеть\" width=\"600\">\n",
    "\n"
   ]
  },
  {
   "cell_type": "markdown",
   "metadata": {},
   "source": [
    "Каждая точка данных представляет собой клиентов. Первое входное значение – это количество счетов, которые у них есть, а второе - количество детей, которые у них есть. Модель предсказывает, сколько транзакций пользователь совершит в следующем году.\n",
    "\n",
    "Входные данные были предопределены как `input_data` и `weights`. Массив весов для первого узла в скрытом слое находится в `weights['node_0']`, а массив весов для второго узла в скрытом слое находится в `weights['node_1']`.\n",
    "\n",
    "Веса, поступающие на выходной узел, доступны в `weights['output']`."
   ]
  },
  {
   "cell_type": "markdown",
   "metadata": {},
   "source": [
    "## Инструкция"
   ]
  },
  {
   "cell_type": "markdown",
   "metadata": {},
   "source": [
    "- Рассчитайте значение в узле 0, умножив `input_data` на его веса `weights['node_0']` и вычислив их сумму. Это первый узел в скрытом слое;\n",
    "- Рассчитайте значение в узле 1, используя `input_data` и `weights['node_1']`. Это второй узел в скрытом слое;\n",
    "- Поместите значения скрытого слоя в массив;\n",
    "- Расчитайте прогноз, умножив `hidden_layer_outputs` на weights['output'] и вычислив их сумму."
   ]
  },
  {
   "cell_type": "markdown",
   "metadata": {},
   "source": [
    "## Предопределенный код"
   ]
  },
  {
   "cell_type": "markdown",
   "metadata": {},
   "source": [
    "Предопределенные значения и загрузка библиотек"
   ]
  },
  {
   "cell_type": "code",
   "execution_count": null,
   "metadata": {},
   "outputs": [],
   "source": [
    "import numpy as np\n",
    "\n",
    "input_data = [3, 5]\n",
    "weights = {\n",
    "    'node_0': np.array([2, 4]),\n",
    "    'node_1': np.array([4, -5]),\n",
    "    'output': np.array([2, 7])\n",
    "}"
   ]
  },
  {
   "cell_type": "markdown",
   "metadata": {},
   "source": [
    "Рассчитайте значение узла 0: `node_0_value`"
   ]
  },
  {
   "cell_type": "code",
   "execution_count": null,
   "metadata": {},
   "outputs": [],
   "source": []
  },
  {
   "cell_type": "markdown",
   "metadata": {},
   "source": [
    "Рассчитайте значение узла 1: `node_1_value`"
   ]
  },
  {
   "cell_type": "code",
   "execution_count": null,
   "metadata": {},
   "outputs": [],
   "source": []
  },
  {
   "cell_type": "markdown",
   "metadata": {},
   "source": [
    "Поместите значения узлов в массив: `hidden_layer_outputs`"
   ]
  },
  {
   "cell_type": "code",
   "execution_count": null,
   "metadata": {},
   "outputs": [],
   "source": []
  },
  {
   "cell_type": "markdown",
   "metadata": {},
   "source": [
    "Рассчитайте выход: `output`"
   ]
  },
  {
   "cell_type": "code",
   "execution_count": null,
   "metadata": {},
   "outputs": [],
   "source": []
  },
  {
   "cell_type": "markdown",
   "metadata": {},
   "source": [
    "Выведите результат"
   ]
  },
  {
   "cell_type": "code",
   "execution_count": null,
   "metadata": {},
   "outputs": [],
   "source": []
  }
 ],
 "metadata": {
  "kernelspec": {
   "display_name": "base",
   "language": "python",
   "name": "python3"
  },
  "language_info": {
   "codemirror_mode": {
    "name": "ipython",
    "version": 3
   },
   "file_extension": ".py",
   "mimetype": "text/x-python",
   "name": "python",
   "nbconvert_exporter": "python",
   "pygments_lexer": "ipython3",
   "version": "3.11.5"
  }
 },
 "nbformat": 4,
 "nbformat_minor": 2
}
