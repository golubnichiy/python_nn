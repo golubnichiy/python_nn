{
 "cells": [
  {
   "cell_type": "markdown",
   "metadata": {},
   "source": [
    "# Сравнение нейронных сетей с классическими моделями регрессии"
   ]
  },
  {
   "cell_type": "markdown",
   "metadata": {},
   "source": [
    "### Вопрос"
   ]
  },
  {
   "cell_type": "markdown",
   "metadata": {},
   "source": [
    "Какая из моделей обладает большей способностью учитывать взаимодействия?\n",
    "\n",
    "<img src=\"test_1.png\" alt=\"Модели нейронной сети\" width=\"400\">\n"
   ]
  },
  {
   "cell_type": "markdown",
   "metadata": {},
   "source": [
    "### Варианты ответа"
   ]
  },
  {
   "cell_type": "markdown",
   "metadata": {},
   "source": [
    "<input type=\"radio\" id=\"option1\" name=\"options\" value=\"1\">\n",
    "<label for=\"option1\">Модель 1</label><br>\n",
    "<input type=\"radio\" id=\"option2\" name=\"options\" value=\"2\">\n",
    "<label for=\"option2\">Модель 2</label><br>\n",
    "<input type=\"radio\" id=\"option3\" name=\"options\" value=\"3\">\n",
    "<label for=\"option2\">Обе модели в одинаковой степени учитывают взаимодействия</label><br>\n",
    "<input type=\"radio\" id=\"option4\" name=\"options\" value=\"4\">\n",
    "<label for=\"option2\">По изображению нельзя дать ответ на этот вопрос</label><br>"
   ]
  }
 ],
 "metadata": {
  "kernelspec": {
   "display_name": "base",
   "language": "python",
   "name": "python3"
  },
  "language_info": {
   "name": "python",
   "version": "3.11.5"
  }
 },
 "nbformat": 4,
 "nbformat_minor": 2
}
