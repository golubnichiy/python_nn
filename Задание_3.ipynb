{
 "cells": [
  {
   "cell_type": "markdown",
   "metadata": {},
   "source": [
    "# Применение сети к множеству наблюдений/строк данных"
   ]
  },
  {
   "cell_type": "markdown",
   "metadata": {},
   "source": [
    "## Задание"
   ]
  },
  {
   "cell_type": "markdown",
   "metadata": {},
   "source": [
    "Вам необходимо определить функцию с именем `predict_with_network()`, которая будет генерировать прогнозы для нескольких наблюдений данных, которые предопределены заранее как `input_data`. Как и ранее, веса также предопределены заранее в `weights`. Используйте функция `relu()`, которую вы создали в предыдущем упражнении."
   ]
  },
  {
   "cell_type": "markdown",
   "metadata": {},
   "source": [
    "## Инструкция"
   ]
  },
  {
   "cell_type": "markdown",
   "metadata": {},
   "source": [
    "- Повторите код, реализующий логику функции `relu()`;\n",
    "- Определите функцию с именем `predict_with_network()`, которая принимает два аргумента - `input_data_row` и `weights` - и возвращает прогноз сети в качестве выходных данных. Для реализации логики прогноза:\n",
    "  - Рассчитайте значения входа и выхода для каждого узла, сохраняя их как: `node_0_input`, `node_0_output`, `node_1_input` и `node_1_output`.\n",
    "  - Для вычисления входного значения узла умножьте соответствующие массивы и вычислите их сумму.\n",
    "  - Для вычисления выходного значения узла примените функцию `relu()` к входному значению узла.\n",
    "  - Рассчитайте выход модели, вычисляя `input_to_final_layer` и `model_output` так же, как и значения входа и выхода для узлов.\n",
    "- Используйте цикл `for` для итерации по `input_data`:\n",
    "- Используйте вашу функцию `predict_with_network()` для генерации прогнозов для каждой строки `input_data` - `input_data_row`. Добавьте каждый прогноз в `results`."
   ]
  },
  {
   "cell_type": "markdown",
   "metadata": {},
   "source": [
    "## Предопределенный код"
   ]
  },
  {
   "cell_type": "markdown",
   "metadata": {},
   "source": [
    "Предопределенные значения и загрузка библиотек"
   ]
  },
  {
   "cell_type": "code",
   "execution_count": 1,
   "metadata": {},
   "outputs": [],
   "source": [
    "import numpy as np\n",
    "\n",
    "input_data = [np.array([3, 5]), np.array([ 1, -1]), np.array([0, 0]), np.array([8, 4])]\n",
    "weights = {\n",
    "    'node_0': np.array([2, 4]),\n",
    "    'node_1': np.array([4, -5]),\n",
    "    'output': np.array([2, 7])\n",
    "}"
   ]
  },
  {
   "cell_type": "markdown",
   "metadata": {},
   "source": [
    "Определите функцию `relu()`:"
   ]
  },
  {
   "cell_type": "code",
   "execution_count": 2,
   "metadata": {},
   "outputs": [],
   "source": [
    "def relu(input):\n",
    "    output = max(0, input)\n",
    "    return(output)"
   ]
  },
  {
   "cell_type": "markdown",
   "metadata": {},
   "source": [
    "Заполните логику функции `predict_with_network()` по шаблону:"
   ]
  },
  {
   "cell_type": "code",
   "execution_count": 3,
   "metadata": {},
   "outputs": [],
   "source": [
    "def predict_with_network(input_data_row, weights):\n",
    "\n",
    "    # Рассчитайте значение узла 0: node_0_output. Для расчета изначально посчитайте node_0_input\n",
    "    node_0_input = (input_data_row * weights['node_0']).sum()\n",
    "    node_0_output = relu(node_0_input)\n",
    "\n",
    "    # Рассчитайте значение узла 1: node_1_output. Для расчета изначально посчитайте node_1_input\n",
    "    node_1_input = (input_data_row * weights['node_1']).sum()\n",
    "    node_1_output = relu(node_1_input)\n",
    "\n",
    "    # Поместите значения узлов в массив: hidden_layer_outputs\n",
    "    hidden_layer_outputs = np.array([node_0_output, node_1_output])\n",
    "    \n",
    "    #Рассчитайте выход: `model_output` (не используйте `relu`)\n",
    "    model_output = (hidden_layer_outputs * weights['output']).sum()\n",
    "    \n",
    "    # Верните результат вычислений\n",
    "    return(model_output)\n"
   ]
  },
  {
   "cell_type": "markdown",
   "metadata": {},
   "source": [
    "Создать пустой список для хранения результатов прогнозирования. Используйте цикл `for` для итерации по `input_data`. Добавьте каждый прогноз в `results`."
   ]
  },
  {
   "cell_type": "code",
   "execution_count": 4,
   "metadata": {},
   "outputs": [],
   "source": [
    "results = []\n",
    "for input_data_row in input_data:\n",
    "    results.append(predict_with_network(input_data_row, weights))"
   ]
  },
  {
   "cell_type": "markdown",
   "metadata": {},
   "source": [
    "Выведите результат"
   ]
  },
  {
   "cell_type": "code",
   "execution_count": 5,
   "metadata": {},
   "outputs": [
    {
     "name": "stdout",
     "output_type": "stream",
     "text": [
      "[52, 63, 0, 148]\n"
     ]
    }
   ],
   "source": [
    "print(results)"
   ]
  }
 ],
 "metadata": {
  "kernelspec": {
   "display_name": "base",
   "language": "python",
   "name": "python3"
  },
  "language_info": {
   "codemirror_mode": {
    "name": "ipython",
    "version": 3
   },
   "file_extension": ".py",
   "mimetype": "text/x-python",
   "name": "python",
   "nbconvert_exporter": "python",
   "pygments_lexer": "ipython3",
   "version": "3.11.5"
  }
 },
 "nbformat": 4,
 "nbformat_minor": 2
}
