{
 "cells": [
  {
   "cell_type": "markdown",
   "metadata": {},
   "source": [
    "# Формирование взаимосвязей в процессе обучения"
   ]
  },
  {
   "cell_type": "markdown",
   "metadata": {},
   "source": [
    "### Вопрос"
   ]
  },
  {
   "cell_type": "markdown",
   "metadata": {},
   "source": [
    "Как формируются веса, определяющие признаки/взаимодействия в нейронных сетях?"
   ]
  },
  {
   "cell_type": "markdown",
   "metadata": {},
   "source": [
    "### Варианты ответа"
   ]
  },
  {
   "cell_type": "markdown",
   "metadata": {},
   "source": [
    "<input type=\"radio\" id=\"option1\" name=\"options\" value=\"1\">\n",
    "<label for=\"option1\">Пользователь выбирает их при создании модели</label><br>\n",
    "<input type=\"radio\" id=\"option2\" name=\"options\" value=\"2\">\n",
    "<label for=\"option2\">В процессе обучения модели они устанавливаются для оптимизации точности предсказания</label><br>\n",
    "<input type=\"radio\" id=\"option3\" name=\"options\" value=\"3\">\n",
    "<label for=\"option2\">Веса являются случайными числами</label><br>\n",
    "<input type=\"radio\" id=\"option4\" name=\"options\" value=\"4\">\n",
    "<label for=\"option2\">Часть весов определяет пользователь вручную, часть программа назначает случайным образом</label><br>"
   ]
  }
 ],
 "metadata": {
  "kernelspec": {
   "display_name": "base",
   "language": "python",
   "name": "python3"
  },
  "language_info": {
   "name": "python",
   "version": "3.11.5"
  }
 },
 "nbformat": 4,
 "nbformat_minor": 2
}
