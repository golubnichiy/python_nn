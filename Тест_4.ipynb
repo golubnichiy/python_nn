{
 "cells": [
  {
   "cell_type": "markdown",
   "metadata": {},
   "source": [
    "# Уровни представления"
   ]
  },
  {
   "cell_type": "markdown",
   "metadata": {},
   "source": [
    "### Вопрос"
   ]
  },
  {
   "cell_type": "markdown",
   "metadata": {},
   "source": [
    "Какие слои модели захватывают более сложные или \"более высокоуровневые\" взаимодействия?"
   ]
  },
  {
   "cell_type": "markdown",
   "metadata": {},
   "source": [
    "### Варианты ответа"
   ]
  },
  {
   "cell_type": "markdown",
   "metadata": {},
   "source": [
    "<input type=\"radio\" id=\"option1\" name=\"options\" value=\"1\">\n",
    "<label for=\"option1\">Первые слои захватывают наиболее сложные взаимодействия</label><br>\n",
    "<input type=\"radio\" id=\"option2\" name=\"options\" value=\"2\">\n",
    "<label for=\"option2\">Последние слои захватывают наиболее сложные взаимодействия</label><br>\n",
    "<input type=\"radio\" id=\"option3\" name=\"options\" value=\"3\">\n",
    "<label for=\"option2\">Все слои захватывают взаимодействия схожей сложности</label><br>\n",
    "<input type=\"radio\" id=\"option4\" name=\"options\" value=\"4\">\n",
    "<label for=\"option2\">Сложность случайным образом распределена по слоям</label><br>"
   ]
  }
 ],
 "metadata": {
  "kernelspec": {
   "display_name": "base",
   "language": "python",
   "name": "python3"
  },
  "language_info": {
   "name": "python",
   "version": "3.11.5"
  }
 },
 "nbformat": 4,
 "nbformat_minor": 2
}
